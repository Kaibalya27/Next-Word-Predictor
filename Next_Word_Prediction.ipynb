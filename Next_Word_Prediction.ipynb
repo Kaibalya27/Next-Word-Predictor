{
  "cells": [
    {
      "cell_type": "code",
      "execution_count": null,
      "id": "2c44e0fc",
      "metadata": {
        "id": "2c44e0fc"
      },
      "outputs": [],
      "source": [
        "import tensorflow\n",
        "from tensorflow.keras.preprocessing.text import Tokenizer\n",
        "from tensorflow.keras.layers import Embedding, LSTM, Dense\n",
        "from tensorflow.keras.models import Sequential\n",
        "from tensorflow.keras.utils import to_categorical\n",
        "from tensorflow.keras.optimizers import Adam\n",
        "import pickle\n",
        "import numpy as np\n",
        "import os"
      ]
    },
    {
      "cell_type": "code",
      "execution_count": null,
      "id": "873a72c9",
      "metadata": {
        "id": "873a72c9"
      },
      "outputs": [],
      "source": [
        "file  = open('data.txt', 'r', encoding = \"utf8\")"
      ]
    },
    {
      "cell_type": "code",
      "execution_count": null,
      "id": "18092b8a",
      "metadata": {
        "id": "18092b8a"
      },
      "outputs": [],
      "source": [
        "lines=[]\n",
        "for i in file:\n",
        "    lines.append(i)"
      ]
    },
    {
      "cell_type": "code",
      "execution_count": null,
      "id": "440a3b97",
      "metadata": {
        "id": "440a3b97"
      },
      "outputs": [],
      "source": [
        "data=\"\"\n",
        "for i in lines:\n",
        "    data = ' '.join(lines)"
      ]
    },
    {
      "cell_type": "code",
      "execution_count": null,
      "id": "2e92148c",
      "metadata": {
        "id": "2e92148c"
      },
      "outputs": [],
      "source": [
        " data = data.replace('\\n', '').replace('\\r', '').replace('\\ufeff', '').replace('“','').replace('”','')"
      ]
    },
    {
      "cell_type": "code",
      "execution_count": null,
      "id": "a01f9e91",
      "metadata": {
        "id": "a01f9e91"
      },
      "outputs": [],
      "source": [
        "data = data.split()\n",
        "data = ' '.join(data)"
      ]
    },
    {
      "cell_type": "code",
      "execution_count": null,
      "id": "a342d7e5",
      "metadata": {
        "colab": {
          "base_uri": "https://localhost:8080/",
          "height": 226
        },
        "id": "a342d7e5",
        "outputId": "c0ca33b0-5bb5-4a4d-8d73-e077d3679285"
      },
      "outputs": [
        {
          "output_type": "execute_result",
          "data": {
            "text/plain": [
              "\"THE ADVENTURES OF SHERLOCK HOLMES Arthur Conan Doyle Table of contents A Scandal in Bohemia The Red-Headed League A Case of Identity The Boscombe Valley Mystery The Five Orange Pips The Man with the Twisted Lip The Adventure of the Blue Carbuncle The Adventure of the Speckled Band The Adventure of the Engineer's Thumb The Adventure of the Noble Bachelor The Adventure of the Beryl Coronet The Adventure of the Copper Beeches A SCANDAL IN BOHEMIA Table of contents Chapter 1 Chapter 2 Chapter 3 CHAPTER I To Sherlock Holmes she is always the woman. I have seldom heard him mention her under any other name. In his eyes she eclipses and predominates the whole of her sex. It was not that he felt any emotion akin to love for Irene Adler. All emotions, and that one particularly, were abhorrent to his cold, precise but admirably balanced mind. He was, I take it, the most perfect reasoning and observing machine that the world has seen, but as a lover he would have placed himself in a false position\""
            ],
            "application/vnd.google.colaboratory.intrinsic+json": {
              "type": "string"
            }
          },
          "metadata": {},
          "execution_count": 8
        }
      ],
      "source": [
        "data[:1000]"
      ]
    },
    {
      "cell_type": "code",
      "execution_count": null,
      "id": "a16f26f9",
      "metadata": {
        "id": "a16f26f9"
      },
      "outputs": [],
      "source": [
        "tokenizer = Tokenizer()\n",
        "tokenizer.fit_on_texts([data])"
      ]
    },
    {
      "cell_type": "code",
      "execution_count": null,
      "id": "d29d39ff",
      "metadata": {
        "id": "d29d39ff"
      },
      "outputs": [],
      "source": [
        "pickle.dump(tokenizer, open('token.pkl', 'wb'))"
      ]
    },
    {
      "cell_type": "code",
      "execution_count": null,
      "id": "32ef5b4f",
      "metadata": {
        "id": "32ef5b4f"
      },
      "outputs": [],
      "source": [
        "sequence_data = tokenizer.texts_to_sequences([data])[0]"
      ]
    },
    {
      "cell_type": "code",
      "execution_count": null,
      "id": "1cadf611",
      "metadata": {
        "colab": {
          "base_uri": "https://localhost:8080/"
        },
        "id": "1cadf611",
        "outputId": "0cd72e97-7742-4bac-cfea-1300d5d30163"
      },
      "outputs": [
        {
          "output_type": "execute_result",
          "data": {
            "text/plain": [
              "[1, 1561, 5, 129, 34, 647, 4498, 4499, 226, 5]"
            ]
          },
          "metadata": {},
          "execution_count": 12
        }
      ],
      "source": [
        "sequence_data[:10]"
      ]
    },
    {
      "cell_type": "code",
      "execution_count": null,
      "id": "de0dad49",
      "metadata": {
        "colab": {
          "base_uri": "https://localhost:8080/"
        },
        "id": "de0dad49",
        "outputId": "740be0eb-d9df-45d1-ffaf-3b51690e8970"
      },
      "outputs": [
        {
          "output_type": "execute_result",
          "data": {
            "text/plain": [
              "105879"
            ]
          },
          "metadata": {},
          "execution_count": 13
        }
      ],
      "source": [
        "len(sequence_data)"
      ]
    },
    {
      "cell_type": "code",
      "execution_count": null,
      "id": "afb04b56",
      "metadata": {
        "id": "afb04b56"
      },
      "outputs": [],
      "source": [
        "vocab_size = len(tokenizer.word_index)+1"
      ]
    },
    {
      "cell_type": "code",
      "execution_count": null,
      "id": "9810f6ee",
      "metadata": {
        "colab": {
          "base_uri": "https://localhost:8080/"
        },
        "id": "9810f6ee",
        "outputId": "7902d91f-a140-4dd4-ee2c-481a0dc011a5"
      },
      "outputs": [
        {
          "output_type": "execute_result",
          "data": {
            "text/plain": [
              "8200"
            ]
          },
          "metadata": {},
          "execution_count": 15
        }
      ],
      "source": [
        "vocab_size"
      ]
    },
    {
      "cell_type": "code",
      "execution_count": null,
      "id": "7cc96627",
      "metadata": {
        "id": "7cc96627"
      },
      "outputs": [],
      "source": [
        "sequence=[]\n",
        "for i in range(3, len(sequence_data)):\n",
        "    words = sequence_data[i-3:i+1]\n",
        "    sequence.append(words)"
      ]
    },
    {
      "cell_type": "code",
      "execution_count": null,
      "id": "3024f17c",
      "metadata": {
        "colab": {
          "base_uri": "https://localhost:8080/"
        },
        "id": "3024f17c",
        "outputId": "8a8d4a8f-2364-458b-c7d6-1472154e4abc"
      },
      "outputs": [
        {
          "output_type": "execute_result",
          "data": {
            "text/plain": [
              "105876"
            ]
          },
          "metadata": {},
          "execution_count": 17
        }
      ],
      "source": [
        "len(sequence)"
      ]
    },
    {
      "cell_type": "code",
      "execution_count": null,
      "id": "b2f04d30",
      "metadata": {
        "id": "b2f04d30"
      },
      "outputs": [],
      "source": [
        "sequence = np.array(sequence)"
      ]
    },
    {
      "cell_type": "code",
      "execution_count": null,
      "id": "6cd04438",
      "metadata": {
        "colab": {
          "base_uri": "https://localhost:8080/"
        },
        "id": "6cd04438",
        "outputId": "3b75b4c8-3951-4154-e28e-7559e96f9186"
      },
      "outputs": [
        {
          "output_type": "execute_result",
          "data": {
            "text/plain": [
              "array([[   1, 1561,    5,  129],\n",
              "       [1561,    5,  129,   34],\n",
              "       [   5,  129,   34,  647],\n",
              "       ...,\n",
              "       [  28,    1, 8198, 8199],\n",
              "       [   1, 8198, 8199, 3187],\n",
              "       [8198, 8199, 3187, 3186]])"
            ]
          },
          "metadata": {},
          "execution_count": 19
        }
      ],
      "source": [
        "sequence"
      ]
    },
    {
      "cell_type": "code",
      "execution_count": null,
      "id": "16cd722f",
      "metadata": {
        "id": "16cd722f"
      },
      "outputs": [],
      "source": [
        "X=[]\n",
        "y=[]\n",
        "\n",
        "for i in sequence:\n",
        "    X.append(i[0:3])\n",
        "    y.append(i[3])"
      ]
    },
    {
      "cell_type": "code",
      "execution_count": null,
      "id": "ccda9f6b",
      "metadata": {
        "id": "ccda9f6b"
      },
      "outputs": [],
      "source": [
        "X=np.array(X)\n",
        "y=np.array(y)"
      ]
    },
    {
      "cell_type": "code",
      "execution_count": null,
      "id": "5eaf5871",
      "metadata": {
        "id": "5eaf5871"
      },
      "outputs": [],
      "source": [
        "y = to_categorical(y, num_classes=vocab_size)"
      ]
    },
    {
      "cell_type": "code",
      "execution_count": null,
      "id": "2d904adc",
      "metadata": {
        "colab": {
          "base_uri": "https://localhost:8080/"
        },
        "id": "2d904adc",
        "outputId": "3ec085cc-93eb-4dc7-dd7d-0dbeed06145e"
      },
      "outputs": [
        {
          "output_type": "execute_result",
          "data": {
            "text/plain": [
              "array([[0., 0., 0., ..., 0., 0., 0.],\n",
              "       [0., 0., 0., ..., 0., 0., 0.],\n",
              "       [0., 0., 0., ..., 0., 0., 0.],\n",
              "       [0., 0., 0., ..., 0., 0., 0.],\n",
              "       [0., 0., 0., ..., 0., 0., 0.]])"
            ]
          },
          "metadata": {},
          "execution_count": 23
        }
      ],
      "source": [
        "y[:5]"
      ]
    },
    {
      "cell_type": "markdown",
      "id": "24748949",
      "metadata": {
        "id": "24748949"
      },
      "source": [
        "Building the LSTM Model"
      ]
    },
    {
      "cell_type": "code",
      "execution_count": null,
      "id": "962e9f31",
      "metadata": {
        "colab": {
          "base_uri": "https://localhost:8080/"
        },
        "id": "962e9f31",
        "outputId": "ff729e31-ef6e-4e48-df15-c968031935aa"
      },
      "outputs": [
        {
          "output_type": "stream",
          "name": "stderr",
          "text": [
            "/usr/local/lib/python3.10/dist-packages/keras/src/layers/core/embedding.py:90: UserWarning: Argument `input_length` is deprecated. Just remove it.\n",
            "  warnings.warn(\n"
          ]
        }
      ],
      "source": [
        "model = Sequential()\n",
        "model.add(Embedding(vocab_size, 10, input_length = 3))\n",
        "model.add(LSTM(1000, return_sequences = True))\n",
        "model.add(LSTM(1000))\n",
        "model.add(Dense(1000, activation='relu'))\n",
        "model.add(Dense(vocab_size, activation=\"softmax\"))"
      ]
    },
    {
      "cell_type": "code",
      "execution_count": null,
      "id": "00d3ec6c",
      "metadata": {
        "colab": {
          "base_uri": "https://localhost:8080/",
          "height": 306
        },
        "id": "00d3ec6c",
        "outputId": "d45e76a1-53a3-442d-dace-a472b0eed3f6"
      },
      "outputs": [
        {
          "output_type": "display_data",
          "data": {
            "text/plain": [
              "\u001b[1mModel: \"sequential\"\u001b[0m\n"
            ],
            "text/html": [
              "<pre style=\"white-space:pre;overflow-x:auto;line-height:normal;font-family:Menlo,'DejaVu Sans Mono',consolas,'Courier New',monospace\"><span style=\"font-weight: bold\">Model: \"sequential\"</span>\n",
              "</pre>\n"
            ]
          },
          "metadata": {}
        },
        {
          "output_type": "display_data",
          "data": {
            "text/plain": [
              "┏━━━━━━━━━━━━━━━━━━━━━━━━━━━━━━━━━━━━━━┳━━━━━━━━━━━━━━━━━━━━━━━━━━━━━┳━━━━━━━━━━━━━━━━━┓\n",
              "┃\u001b[1m \u001b[0m\u001b[1mLayer (type)                        \u001b[0m\u001b[1m \u001b[0m┃\u001b[1m \u001b[0m\u001b[1mOutput Shape               \u001b[0m\u001b[1m \u001b[0m┃\u001b[1m \u001b[0m\u001b[1m        Param #\u001b[0m\u001b[1m \u001b[0m┃\n",
              "┡━━━━━━━━━━━━━━━━━━━━━━━━━━━━━━━━━━━━━━╇━━━━━━━━━━━━━━━━━━━━━━━━━━━━━╇━━━━━━━━━━━━━━━━━┩\n",
              "│ embedding (\u001b[38;5;33mEmbedding\u001b[0m)                │ ?                           │     \u001b[38;5;34m0\u001b[0m (unbuilt) │\n",
              "├──────────────────────────────────────┼─────────────────────────────┼─────────────────┤\n",
              "│ lstm (\u001b[38;5;33mLSTM\u001b[0m)                          │ ?                           │     \u001b[38;5;34m0\u001b[0m (unbuilt) │\n",
              "├──────────────────────────────────────┼─────────────────────────────┼─────────────────┤\n",
              "│ lstm_1 (\u001b[38;5;33mLSTM\u001b[0m)                        │ ?                           │     \u001b[38;5;34m0\u001b[0m (unbuilt) │\n",
              "├──────────────────────────────────────┼─────────────────────────────┼─────────────────┤\n",
              "│ dense (\u001b[38;5;33mDense\u001b[0m)                        │ ?                           │     \u001b[38;5;34m0\u001b[0m (unbuilt) │\n",
              "├──────────────────────────────────────┼─────────────────────────────┼─────────────────┤\n",
              "│ dense_1 (\u001b[38;5;33mDense\u001b[0m)                      │ ?                           │     \u001b[38;5;34m0\u001b[0m (unbuilt) │\n",
              "└──────────────────────────────────────┴─────────────────────────────┴─────────────────┘\n"
            ],
            "text/html": [
              "<pre style=\"white-space:pre;overflow-x:auto;line-height:normal;font-family:Menlo,'DejaVu Sans Mono',consolas,'Courier New',monospace\">┏━━━━━━━━━━━━━━━━━━━━━━━━━━━━━━━━━━━━━━┳━━━━━━━━━━━━━━━━━━━━━━━━━━━━━┳━━━━━━━━━━━━━━━━━┓\n",
              "┃<span style=\"font-weight: bold\"> Layer (type)                         </span>┃<span style=\"font-weight: bold\"> Output Shape                </span>┃<span style=\"font-weight: bold\">         Param # </span>┃\n",
              "┡━━━━━━━━━━━━━━━━━━━━━━━━━━━━━━━━━━━━━━╇━━━━━━━━━━━━━━━━━━━━━━━━━━━━━╇━━━━━━━━━━━━━━━━━┩\n",
              "│ embedding (<span style=\"color: #0087ff; text-decoration-color: #0087ff\">Embedding</span>)                │ ?                           │     <span style=\"color: #00af00; text-decoration-color: #00af00\">0</span> (unbuilt) │\n",
              "├──────────────────────────────────────┼─────────────────────────────┼─────────────────┤\n",
              "│ lstm (<span style=\"color: #0087ff; text-decoration-color: #0087ff\">LSTM</span>)                          │ ?                           │     <span style=\"color: #00af00; text-decoration-color: #00af00\">0</span> (unbuilt) │\n",
              "├──────────────────────────────────────┼─────────────────────────────┼─────────────────┤\n",
              "│ lstm_1 (<span style=\"color: #0087ff; text-decoration-color: #0087ff\">LSTM</span>)                        │ ?                           │     <span style=\"color: #00af00; text-decoration-color: #00af00\">0</span> (unbuilt) │\n",
              "├──────────────────────────────────────┼─────────────────────────────┼─────────────────┤\n",
              "│ dense (<span style=\"color: #0087ff; text-decoration-color: #0087ff\">Dense</span>)                        │ ?                           │     <span style=\"color: #00af00; text-decoration-color: #00af00\">0</span> (unbuilt) │\n",
              "├──────────────────────────────────────┼─────────────────────────────┼─────────────────┤\n",
              "│ dense_1 (<span style=\"color: #0087ff; text-decoration-color: #0087ff\">Dense</span>)                      │ ?                           │     <span style=\"color: #00af00; text-decoration-color: #00af00\">0</span> (unbuilt) │\n",
              "└──────────────────────────────────────┴─────────────────────────────┴─────────────────┘\n",
              "</pre>\n"
            ]
          },
          "metadata": {}
        },
        {
          "output_type": "display_data",
          "data": {
            "text/plain": [
              "\u001b[1m Total params: \u001b[0m\u001b[38;5;34m0\u001b[0m (0.00 B)\n"
            ],
            "text/html": [
              "<pre style=\"white-space:pre;overflow-x:auto;line-height:normal;font-family:Menlo,'DejaVu Sans Mono',consolas,'Courier New',monospace\"><span style=\"font-weight: bold\"> Total params: </span><span style=\"color: #00af00; text-decoration-color: #00af00\">0</span> (0.00 B)\n",
              "</pre>\n"
            ]
          },
          "metadata": {}
        },
        {
          "output_type": "display_data",
          "data": {
            "text/plain": [
              "\u001b[1m Trainable params: \u001b[0m\u001b[38;5;34m0\u001b[0m (0.00 B)\n"
            ],
            "text/html": [
              "<pre style=\"white-space:pre;overflow-x:auto;line-height:normal;font-family:Menlo,'DejaVu Sans Mono',consolas,'Courier New',monospace\"><span style=\"font-weight: bold\"> Trainable params: </span><span style=\"color: #00af00; text-decoration-color: #00af00\">0</span> (0.00 B)\n",
              "</pre>\n"
            ]
          },
          "metadata": {}
        },
        {
          "output_type": "display_data",
          "data": {
            "text/plain": [
              "\u001b[1m Non-trainable params: \u001b[0m\u001b[38;5;34m0\u001b[0m (0.00 B)\n"
            ],
            "text/html": [
              "<pre style=\"white-space:pre;overflow-x:auto;line-height:normal;font-family:Menlo,'DejaVu Sans Mono',consolas,'Courier New',monospace\"><span style=\"font-weight: bold\"> Non-trainable params: </span><span style=\"color: #00af00; text-decoration-color: #00af00\">0</span> (0.00 B)\n",
              "</pre>\n"
            ]
          },
          "metadata": {}
        }
      ],
      "source": [
        "model.summary()"
      ]
    },
    {
      "cell_type": "code",
      "execution_count": null,
      "id": "2fa0c054",
      "metadata": {
        "colab": {
          "base_uri": "https://localhost:8080/"
        },
        "id": "2fa0c054",
        "outputId": "a7cca759-aff6-46c1-9b13-33a84bfc183e"
      },
      "outputs": [
        {
          "output_type": "stream",
          "name": "stdout",
          "text": [
            "Epoch 1/20\n",
            "\u001b[1m3307/3309\u001b[0m \u001b[32m━━━━━━━━━━━━━━━━━━━\u001b[0m\u001b[37m━\u001b[0m \u001b[1m0s\u001b[0m 23ms/step - accuracy: 0.0568 - loss: 6.5425\n",
            "Epoch 1: loss improved from inf to 6.28218, saving model to next_words.keras\n",
            "\u001b[1m3309/3309\u001b[0m \u001b[32m━━━━━━━━━━━━━━━━━━━━\u001b[0m\u001b[37m\u001b[0m \u001b[1m93s\u001b[0m 26ms/step - accuracy: 0.0568 - loss: 6.5423\n",
            "Epoch 2/20\n",
            "\u001b[1m3308/3309\u001b[0m \u001b[32m━━━━━━━━━━━━━━━━━━━\u001b[0m\u001b[37m━\u001b[0m \u001b[1m0s\u001b[0m 23ms/step - accuracy: 0.0993 - loss: 5.7741\n",
            "Epoch 2: loss improved from 6.28218 to 5.73831, saving model to next_words.keras\n",
            "\u001b[1m3309/3309\u001b[0m \u001b[32m━━━━━━━━━━━━━━━━━━━━\u001b[0m\u001b[37m\u001b[0m \u001b[1m138s\u001b[0m 25ms/step - accuracy: 0.0993 - loss: 5.7741\n",
            "Epoch 3/20\n",
            "\u001b[1m3309/3309\u001b[0m \u001b[32m━━━━━━━━━━━━━━━━━━━━\u001b[0m\u001b[37m\u001b[0m \u001b[1m0s\u001b[0m 23ms/step - accuracy: 0.1181 - loss: 5.4737\n",
            "Epoch 3: loss improved from 5.73831 to 5.44803, saving model to next_words.keras\n",
            "\u001b[1m3309/3309\u001b[0m \u001b[32m━━━━━━━━━━━━━━━━━━━━\u001b[0m\u001b[37m\u001b[0m \u001b[1m142s\u001b[0m 25ms/step - accuracy: 0.1181 - loss: 5.4737\n",
            "Epoch 4/20\n",
            "\u001b[1m3309/3309\u001b[0m \u001b[32m━━━━━━━━━━━━━━━━━━━━\u001b[0m\u001b[37m\u001b[0m \u001b[1m0s\u001b[0m 24ms/step - accuracy: 0.1295 - loss: 5.2467\n",
            "Epoch 4: loss improved from 5.44803 to 5.22693, saving model to next_words.keras\n",
            "\u001b[1m3309/3309\u001b[0m \u001b[32m━━━━━━━━━━━━━━━━━━━━\u001b[0m\u001b[37m\u001b[0m \u001b[1m84s\u001b[0m 25ms/step - accuracy: 0.1295 - loss: 5.2467\n",
            "Epoch 5/20\n",
            "\u001b[1m3307/3309\u001b[0m \u001b[32m━━━━━━━━━━━━━━━━━━━\u001b[0m\u001b[37m━\u001b[0m \u001b[1m0s\u001b[0m 23ms/step - accuracy: 0.1400 - loss: 5.0347\n",
            "Epoch 5: loss improved from 5.22693 to 5.03437, saving model to next_words.keras\n",
            "\u001b[1m3309/3309\u001b[0m \u001b[32m━━━━━━━━━━━━━━━━━━━━\u001b[0m\u001b[37m\u001b[0m \u001b[1m142s\u001b[0m 25ms/step - accuracy: 0.1400 - loss: 5.0347\n",
            "Epoch 6/20\n",
            "\u001b[1m3307/3309\u001b[0m \u001b[32m━━━━━━━━━━━━━━━━━━━\u001b[0m\u001b[37m━\u001b[0m \u001b[1m0s\u001b[0m 23ms/step - accuracy: 0.1512 - loss: 4.8522\n",
            "Epoch 6: loss improved from 5.03437 to 4.85510, saving model to next_words.keras\n",
            "\u001b[1m3309/3309\u001b[0m \u001b[32m━━━━━━━━━━━━━━━━━━━━\u001b[0m\u001b[37m\u001b[0m \u001b[1m137s\u001b[0m 24ms/step - accuracy: 0.1512 - loss: 4.8522\n",
            "Epoch 7/20\n",
            "\u001b[1m3307/3309\u001b[0m \u001b[32m━━━━━━━━━━━━━━━━━━━\u001b[0m\u001b[37m━\u001b[0m \u001b[1m0s\u001b[0m 23ms/step - accuracy: 0.1611 - loss: 4.6647\n",
            "Epoch 7: loss improved from 4.85510 to 4.68301, saving model to next_words.keras\n",
            "\u001b[1m3309/3309\u001b[0m \u001b[32m━━━━━━━━━━━━━━━━━━━━\u001b[0m\u001b[37m\u001b[0m \u001b[1m86s\u001b[0m 25ms/step - accuracy: 0.1611 - loss: 4.6648\n",
            "Epoch 8/20\n",
            "\u001b[1m3307/3309\u001b[0m \u001b[32m━━━━━━━━━━━━━━━━━━━\u001b[0m\u001b[37m━\u001b[0m \u001b[1m0s\u001b[0m 23ms/step - accuracy: 0.1692 - loss: 4.5008\n",
            "Epoch 8: loss improved from 4.68301 to 4.51384, saving model to next_words.keras\n",
            "\u001b[1m3309/3309\u001b[0m \u001b[32m━━━━━━━━━━━━━━━━━━━━\u001b[0m\u001b[37m\u001b[0m \u001b[1m142s\u001b[0m 25ms/step - accuracy: 0.1692 - loss: 4.5008\n",
            "Epoch 9/20\n",
            "\u001b[1m3309/3309\u001b[0m \u001b[32m━━━━━━━━━━━━━━━━━━━━\u001b[0m\u001b[37m\u001b[0m \u001b[1m0s\u001b[0m 23ms/step - accuracy: 0.1781 - loss: 4.3335\n",
            "Epoch 9: loss improved from 4.51384 to 4.34428, saving model to next_words.keras\n",
            "\u001b[1m3309/3309\u001b[0m \u001b[32m━━━━━━━━━━━━━━━━━━━━\u001b[0m\u001b[37m\u001b[0m \u001b[1m140s\u001b[0m 24ms/step - accuracy: 0.1781 - loss: 4.3335\n",
            "Epoch 10/20\n",
            "\u001b[1m3309/3309\u001b[0m \u001b[32m━━━━━━━━━━━━━━━━━━━━\u001b[0m\u001b[37m\u001b[0m \u001b[1m0s\u001b[0m 23ms/step - accuracy: 0.1894 - loss: 4.1370\n",
            "Epoch 10: loss improved from 4.34428 to 4.16881, saving model to next_words.keras\n",
            "\u001b[1m3309/3309\u001b[0m \u001b[32m━━━━━━━━━━━━━━━━━━━━\u001b[0m\u001b[37m\u001b[0m \u001b[1m84s\u001b[0m 25ms/step - accuracy: 0.1894 - loss: 4.1370\n",
            "Epoch 11/20\n",
            "\u001b[1m3307/3309\u001b[0m \u001b[32m━━━━━━━━━━━━━━━━━━━\u001b[0m\u001b[37m━\u001b[0m \u001b[1m0s\u001b[0m 23ms/step - accuracy: 0.2002 - loss: 3.9500\n",
            "Epoch 11: loss improved from 4.16881 to 3.98715, saving model to next_words.keras\n",
            "\u001b[1m3309/3309\u001b[0m \u001b[32m━━━━━━━━━━━━━━━━━━━━\u001b[0m\u001b[37m\u001b[0m \u001b[1m142s\u001b[0m 25ms/step - accuracy: 0.2002 - loss: 3.9501\n",
            "Epoch 12/20\n",
            "\u001b[1m3308/3309\u001b[0m \u001b[32m━━━━━━━━━━━━━━━━━━━\u001b[0m\u001b[37m━\u001b[0m \u001b[1m0s\u001b[0m 23ms/step - accuracy: 0.2161 - loss: 3.7628\n",
            "Epoch 12: loss improved from 3.98715 to 3.79401, saving model to next_words.keras\n",
            "\u001b[1m3309/3309\u001b[0m \u001b[32m━━━━━━━━━━━━━━━━━━━━\u001b[0m\u001b[37m\u001b[0m \u001b[1m142s\u001b[0m 25ms/step - accuracy: 0.2161 - loss: 3.7628\n",
            "Epoch 13/20\n",
            "\u001b[1m3309/3309\u001b[0m \u001b[32m━━━━━━━━━━━━━━━━━━━━\u001b[0m\u001b[37m\u001b[0m \u001b[1m0s\u001b[0m 23ms/step - accuracy: 0.2370 - loss: 3.5479\n",
            "Epoch 13: loss improved from 3.79401 to 3.58481, saving model to next_words.keras\n",
            "\u001b[1m3309/3309\u001b[0m \u001b[32m━━━━━━━━━━━━━━━━━━━━\u001b[0m\u001b[37m\u001b[0m \u001b[1m141s\u001b[0m 25ms/step - accuracy: 0.2370 - loss: 3.5480\n",
            "Epoch 14/20\n",
            "\u001b[1m3309/3309\u001b[0m \u001b[32m━━━━━━━━━━━━━━━━━━━━\u001b[0m\u001b[37m\u001b[0m \u001b[1m0s\u001b[0m 23ms/step - accuracy: 0.2697 - loss: 3.3166\n",
            "Epoch 14: loss improved from 3.58481 to 3.36076, saving model to next_words.keras\n",
            "\u001b[1m3309/3309\u001b[0m \u001b[32m━━━━━━━━━━━━━━━━━━━━\u001b[0m\u001b[37m\u001b[0m \u001b[1m84s\u001b[0m 25ms/step - accuracy: 0.2697 - loss: 3.3166\n",
            "Epoch 15/20\n",
            "\u001b[1m3309/3309\u001b[0m \u001b[32m━━━━━━━━━━━━━━━━━━━━\u001b[0m\u001b[37m\u001b[0m \u001b[1m0s\u001b[0m 24ms/step - accuracy: 0.3045 - loss: 3.0661\n",
            "Epoch 15: loss improved from 3.36076 to 3.12403, saving model to next_words.keras\n",
            "\u001b[1m3309/3309\u001b[0m \u001b[32m━━━━━━━━━━━━━━━━━━━━\u001b[0m\u001b[37m\u001b[0m \u001b[1m143s\u001b[0m 26ms/step - accuracy: 0.3045 - loss: 3.0661\n",
            "Epoch 16/20\n",
            "\u001b[1m3309/3309\u001b[0m \u001b[32m━━━━━━━━━━━━━━━━━━━━\u001b[0m\u001b[37m\u001b[0m \u001b[1m0s\u001b[0m 23ms/step - accuracy: 0.3483 - loss: 2.7980\n",
            "Epoch 16: loss improved from 3.12403 to 2.87376, saving model to next_words.keras\n",
            "\u001b[1m3309/3309\u001b[0m \u001b[32m━━━━━━━━━━━━━━━━━━━━\u001b[0m\u001b[37m\u001b[0m \u001b[1m140s\u001b[0m 25ms/step - accuracy: 0.3483 - loss: 2.7981\n",
            "Epoch 17/20\n",
            "\u001b[1m3308/3309\u001b[0m \u001b[32m━━━━━━━━━━━━━━━━━━━\u001b[0m\u001b[37m━\u001b[0m \u001b[1m0s\u001b[0m 23ms/step - accuracy: 0.3917 - loss: 2.5512\n",
            "Epoch 17: loss improved from 2.87376 to 2.62484, saving model to next_words.keras\n",
            "\u001b[1m3309/3309\u001b[0m \u001b[32m━━━━━━━━━━━━━━━━━━━━\u001b[0m\u001b[37m\u001b[0m \u001b[1m141s\u001b[0m 25ms/step - accuracy: 0.3917 - loss: 2.5513\n",
            "Epoch 18/20\n",
            "\u001b[1m3308/3309\u001b[0m \u001b[32m━━━━━━━━━━━━━━━━━━━\u001b[0m\u001b[37m━\u001b[0m \u001b[1m0s\u001b[0m 23ms/step - accuracy: 0.4422 - loss: 2.2980\n",
            "Epoch 18: loss improved from 2.62484 to 2.37749, saving model to next_words.keras\n",
            "\u001b[1m3309/3309\u001b[0m \u001b[32m━━━━━━━━━━━━━━━━━━━━\u001b[0m\u001b[37m\u001b[0m \u001b[1m138s\u001b[0m 24ms/step - accuracy: 0.4422 - loss: 2.2980\n",
            "Epoch 19/20\n",
            "\u001b[1m3307/3309\u001b[0m \u001b[32m━━━━━━━━━━━━━━━━━━━\u001b[0m\u001b[37m━\u001b[0m \u001b[1m0s\u001b[0m 23ms/step - accuracy: 0.4888 - loss: 2.0546\n",
            "Epoch 19: loss improved from 2.37749 to 2.14152, saving model to next_words.keras\n",
            "\u001b[1m3309/3309\u001b[0m \u001b[32m━━━━━━━━━━━━━━━━━━━━\u001b[0m\u001b[37m\u001b[0m \u001b[1m85s\u001b[0m 25ms/step - accuracy: 0.4888 - loss: 2.0547\n",
            "Epoch 20/20\n",
            "\u001b[1m3307/3309\u001b[0m \u001b[32m━━━━━━━━━━━━━━━━━━━\u001b[0m\u001b[37m━\u001b[0m \u001b[1m0s\u001b[0m 23ms/step - accuracy: 0.5392 - loss: 1.8191\n",
            "Epoch 20: loss improved from 2.14152 to 1.91642, saving model to next_words.keras\n",
            "\u001b[1m3309/3309\u001b[0m \u001b[32m━━━━━━━━━━━━━━━━━━━━\u001b[0m\u001b[37m\u001b[0m \u001b[1m144s\u001b[0m 25ms/step - accuracy: 0.5392 - loss: 1.8192\n"
          ]
        },
        {
          "output_type": "execute_result",
          "data": {
            "text/plain": [
              "<keras.src.callbacks.history.History at 0x788763f5ad40>"
            ]
          },
          "metadata": {},
          "execution_count": 26
        }
      ],
      "source": [
        "from tensorflow.keras.callbacks import ModelCheckpoint\n",
        "checkpoint = ModelCheckpoint(\"next_words.keras\", monitor=\"loss\", verbose = 1, save_best_only=True)\n",
        "model.compile(loss=\"categorical_crossentropy\", optimizer = Adam(learning_rate = 0.001),metrics=['accuracy'])\n",
        "model.fit(X, y, epochs=20, batch_size=32, callbacks=[checkpoint])"
      ]
    },
    {
      "cell_type": "code",
      "execution_count": null,
      "id": "a4100e53-a941-4f66-a82f-2d67052ee781",
      "metadata": {
        "colab": {
          "base_uri": "https://localhost:8080/"
        },
        "id": "a4100e53-a941-4f66-a82f-2d67052ee781",
        "outputId": "57fa22f9-737d-4633-feb0-158080d39ef2"
      },
      "outputs": [
        {
          "name": "stdout",
          "output_type": "stream",
          "text": [
            "Enter your line: hii how are\n",
            "\u001b[1m1/1\u001b[0m \u001b[32m━━━━━━━━━━━━━━━━━━━━\u001b[0m\u001b[37m\u001b[0m \u001b[1m0s\u001b[0m 239ms/step\n",
            "the\n",
            "Enter your line: what\n",
            "\u001b[1m1/1\u001b[0m \u001b[32m━━━━━━━━━━━━━━━━━━━━\u001b[0m\u001b[37m\u001b[0m \u001b[1m0s\u001b[0m 168ms/step\n",
            "is\n",
            "Enter your line: your\n",
            "\u001b[1m1/1\u001b[0m \u001b[32m━━━━━━━━━━━━━━━━━━━━\u001b[0m\u001b[37m\u001b[0m \u001b[1m0s\u001b[0m 18ms/step\n",
            "son\n",
            "Enter your line: 1\n"
          ]
        }
      ],
      "source": [
        "from tensorflow.keras.models import load_model\n",
        "import numpy as np\n",
        "import pickle\n",
        "\n",
        "model = load_model('next_words.keras')\n",
        "tokenizer = pickle.load(open('token.pkl', 'rb'))\n",
        "\n",
        "def predict_word(model, tokenizer, text):\n",
        "    sequence = tokenizer.texts_to_sequences([text])\n",
        "    sequence = np.array(sequence)\n",
        "    preds=np.argmax(model.predict(sequence))\n",
        "    predicted_word = \"\"\n",
        "    for key, value in tokenizer.word_index.items():\n",
        "        if value == preds:\n",
        "            predicted_word = key\n",
        "            break\n",
        "    print(predicted_word)\n",
        "    return predicted_word\n",
        "\n",
        "while True:\n",
        "    text = input(\"Enter your line: \")\n",
        "    if text==\"1\":\n",
        "        break\n",
        "    else:\n",
        "        text = text.split(\" \")\n",
        "        text = text[-3:]\n",
        "        predict_word(model, tokenizer, text)\n"
      ]
    },
    {
      "cell_type": "code",
      "source": [],
      "metadata": {
        "id": "wQBAMVCKK_Ej"
      },
      "id": "wQBAMVCKK_Ej",
      "execution_count": null,
      "outputs": []
    }
  ],
  "metadata": {
    "kernelspec": {
      "display_name": "Python 3",
      "name": "python3"
    },
    "language_info": {
      "codemirror_mode": {
        "name": "ipython",
        "version": 3
      },
      "file_extension": ".py",
      "mimetype": "text/x-python",
      "name": "python",
      "nbconvert_exporter": "python",
      "pygments_lexer": "ipython3",
      "version": "3.10.10"
    },
    "colab": {
      "provenance": [],
      "gpuType": "T4"
    },
    "accelerator": "GPU"
  },
  "nbformat": 4,
  "nbformat_minor": 5
}